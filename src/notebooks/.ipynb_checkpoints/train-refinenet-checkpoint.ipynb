{
 "cells": [
  {
   "cell_type": "markdown",
   "metadata": {},
   "source": [
    "# PASCAL VOC - RefineNet\n",
    "\n",
    "## 20 semantic classes + background\n",
    "\n",
    "### RefineNet based on ResNet-101"
   ]
  },
  {
   "cell_type": "code",
   "execution_count": null,
   "metadata": {},
   "outputs": [],
   "source": [
    "import six\n",
    "import sys\n",
    "import json\n",
    "sys.path.append('../../')\n",
    "\n",
    "from models.resnet import rf101"
   ]
  },
  {
   "cell_type": "code",
   "execution_count": null,
   "metadata": {},
   "outputs": [],
   "source": [
    "from utils.helpers import prepare_img\n",
    "from dataset_loader import EgoHandsDatasetLoader"
   ]
  },
  {
   "cell_type": "code",
   "execution_count": null,
   "metadata": {},
   "outputs": [],
   "source": [
    "%matplotlib inline\n",
    "\n",
    "import glob\n",
    "\n",
    "import cv2\n",
    "import matplotlib.pyplot as plt\n",
    "import numpy as np\n",
    "import torch\n",
    "import torch.nn as nn\n",
    "import torch.optim as optim\n",
    "\n",
    "from livelossplot import PlotLosses\n",
    "from PIL import Image"
   ]
  },
  {
   "cell_type": "code",
   "execution_count": null,
   "metadata": {},
   "outputs": [],
   "source": [
    "cmap = np.load('../../utils/cmap.npy')\n",
    "has_cuda = torch.cuda.is_available()\n",
    "device = torch.device(\"cuda:0\")\n",
    "img_dir = '../imgs/VOC/'\n",
    "imgs = glob.glob('{}*.jpg'.format(img_dir))\n",
    "n_classes = 21"
   ]
  },
  {
   "cell_type": "code",
   "execution_count": null,
   "metadata": {},
   "outputs": [],
   "source": [
    "net = rf101(n_classes, pretrained=True).eval()\n",
    "net = net.to(device)\n",
    "net = nn.DataParallel(net)"
   ]
  },
  {
   "cell_type": "code",
   "execution_count": null,
   "metadata": {},
   "outputs": [],
   "source": [
    "batch_size = 16\n",
    "\n",
    "\n",
    "# transform_train = transforms.Compose([\n",
    "#     transforms.RandomCrop(32, padding=4),\n",
    "#     transforms.RandomHorizontalFlip(),\n",
    "#     transforms.ToTensor(),\n",
    "#     transforms.Normalize((0.5, 0.5, 0.5), (0.5, 0.5, 0.5)),\n",
    "# ])\n",
    "\n",
    "# transform_test = transforms.Compose([\n",
    "#     transforms.ToTensor(),\n",
    "#     transforms.Normalize((0.5, 0.5, 0.5), (0.5, 0.5, 0.5)),\n",
    "# ]\n",
    "\n",
    "train_set = EgoHandsDatasetLoader(dataset_root='../../', datafile='../../train_data.json', device=device, shuffle=True)\n",
    "valid_set = EgoHandsDatasetLoader(dataset_root='../../', datafile='../../valid_data.json', device=device, shuffle=True)\n",
    "test_set = EgoHandsDatasetLoader(dataset_root='../../', datafile='../../test_data.json', device=device, shuffle=True)\n",
    "\n",
    "dataloaders = {\n",
    "    \"train\": train_set,\n",
    "    \"validation\": valid_set\n",
    "}"
   ]
  },
  {
   "cell_type": "code",
   "execution_count": null,
   "metadata": {
    "scrolled": true
   },
   "outputs": [],
   "source": [
    "n_rows = len(imgs)\n",
    "\n",
    "def train_model(criterion, optimizer, num_epochs=100):\n",
    "    liveloss = PlotLosses()\n",
    "    \n",
    "    for epoch in range(num_epochs):\n",
    "        logs = {}\n",
    "        for phase in ['train', 'validation']:\n",
    "            if phase == 'train':\n",
    "                net.train()\n",
    "            else:\n",
    "                net.eval()\n",
    "\n",
    "            running_loss = 0.0\n",
    "            running_corrects = 0\n",
    "\n",
    "            for inputs, labels in dataloaders[phase]:\n",
    "                print('len(dataloaders[phase]): ', len(dataloaders[phase]))\n",
    "                img_inp = torch.tensor(prepare_img(inputs).transpose(2, 0, 1)[None]).float()\n",
    "                img_inp = img_inp.to(device)\n",
    "                outputs = net(img_inp)\n",
    "\n",
    "                new_labels = np.zeros((21, 180, 320), dtype=np.uint8)\n",
    "                resized_lbl = cv2.resize(labels, (320, 180), interpolation=cv2.INTER_CUBIC)\n",
    "                resized_lbl = resized_lbl / 255.0\n",
    "                resized_lbl = (resized_lbl >= 0.5).astype(int)\n",
    "                resized_lbl[resized_lbl > 0.5] = 15 # Label should be 15? Try 1\n",
    "                new_labels[15,:,:] = resized_lbl # Person channel\n",
    "                new_labels = torch.tensor(new_labels, device=device).float()\n",
    "                new_labels = new_labels.unsqueeze(dim=0)\n",
    "\n",
    "#                 print('outputs: ', type(outputs))\n",
    "#                 print('new_labels: ', type(new_labels))\n",
    "#                 print('outputs shape: ', outputs.shape)\n",
    "#                 print('new_labels shape: ', new_labels.shape)\n",
    "#                 print('outputs type: ', outputs.dtype)\n",
    "#                 print('new_labels type: ', new_labels.dtype)\n",
    "                loss = criterion(outputs, new_labels)\n",
    "\n",
    "                if phase == 'train':\n",
    "                    optimizer.zero_grad()\n",
    "                    loss.backward()\n",
    "                    optimizer.step()\n",
    "\n",
    "                _, preds = torch.max(outputs, 1)\n",
    "                running_loss = loss\n",
    "                print('loss: ', running_loss)\n",
    "                \n",
    "                epoch_loss = running_loss\n",
    "                # epoch_acc = running_corrects.float() / len(dataloaders[phase])\n",
    "\n",
    "            prefix = ''\n",
    "            if phase == 'validation':\n",
    "                prefix = 'val_'\n",
    "\n",
    "            logs[prefix + 'log loss'] = epoch_loss.item()\n",
    "\n",
    "#             liveloss.update(logs)\n",
    "#             liveloss.draw()"
   ]
  },
  {
   "cell_type": "code",
   "execution_count": null,
   "metadata": {},
   "outputs": [],
   "source": [
    "optimizer = optim.RMSprop(net.parameters(), lr=0.001)\n",
    "criterion = nn.BCELoss()\n",
    "\n",
    "train_model(criterion, optimizer, num_epochs=1)"
   ]
  },
  {
   "cell_type": "code",
   "execution_count": null,
   "metadata": {},
   "outputs": [],
   "source": []
  }
 ],
 "metadata": {
  "kernelspec": {
   "display_name": "Python 3",
   "language": "python",
   "name": "python3"
  },
  "language_info": {
   "codemirror_mode": {
    "name": "ipython",
    "version": 3
   },
   "file_extension": ".py",
   "mimetype": "text/x-python",
   "name": "python",
   "nbconvert_exporter": "python",
   "pygments_lexer": "ipython3",
   "version": "3.6.8"
  }
 },
 "nbformat": 4,
 "nbformat_minor": 2
}
